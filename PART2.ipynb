{
 "cells": [
  {
   "cell_type": "markdown",
   "metadata": {
    "id": "1xEt1g-J7VrM"
   },
   "source": [
    "# ***PART2***"
   ]
  },
  {
   "cell_type": "markdown",
   "metadata": {
    "id": "sNeClbwr_a3G"
   },
   "source": [
    "**Imports**"
   ]
  },
  {
   "cell_type": "code",
   "execution_count": 1,
   "metadata": {
    "id": "dDA0yxTC7Rs7"
   },
   "outputs": [],
   "source": [
    "import numpy as np\n",
    "import scipy\n",
    "import math\n",
    "import matplotlib.pyplot as plt"
   ]
  },
  {
   "cell_type": "code",
   "execution_count": 6,
   "metadata": {
    "id": "IpIDuGTY_Dsl"
   },
   "outputs": [],
   "source": [
    "fold = [np.loadtxt('CCPP/fold1.txt')\n",
    "        ,np.loadtxt('CCPP/fold2.txt')\n",
    "        ,np.loadtxt('CCPP/fold3.txt')\n",
    "        ,np.loadtxt('CCPP/fold4.txt')\n",
    "        ,np.loadtxt('CCPP/fold5.txt')]\n",
    "fold = np.array(fold)"
   ]
  },
  {
   "cell_type": "markdown",
   "metadata": {
    "id": "QdfdxdaGk-L1"
   },
   "source": [
    "**Five Fold Generator**"
   ]
  },
  {
   "cell_type": "code",
   "execution_count": 7,
   "metadata": {
    "id": "-tWADpzCc7Qw"
   },
   "outputs": [],
   "source": [
    "def fold_gen(j):\n",
    "    if j!=0:\n",
    "      train_1 = np.concatenate((fold[:j]), axis=0)\n",
    "    if j!=4:\n",
    "      train_2 = np.concatenate((fold[j+1:]), axis=0)\n",
    "    if j==0:\n",
    "      trn = train_2\n",
    "    elif j==4:\n",
    "      trn = train_1\n",
    "    else:\n",
    "      trn = np.concatenate((train_1,train_2), axis=0)\n",
    "    tst = fold[j]\n",
    "    return trn, tst"
   ]
  },
  {
   "cell_type": "markdown",
   "metadata": {
    "id": "AEg9JXdVlDHR"
   },
   "source": [
    "**Ws Generator**"
   ]
  },
  {
   "cell_type": "code",
   "execution_count": 8,
   "metadata": {
    "id": "XUIluDy7lZmv"
   },
   "outputs": [],
   "source": [
    "def Ws_Gen(P, X, t):\n",
    "  Xmat = []\n",
    "  Tmat = []\n",
    "  if (X.ndim == 1):\n",
    "    X = X.reshape(-1, 1)\n",
    "  N = len(X)\n",
    "  numfeatures = len(X[0])\n",
    "  for i in range(0,N):\n",
    "    Xmat_row = []\n",
    "    for j in range(0,numfeatures):\n",
    "      for k in range(P, 0, -1):\n",
    "        Xmat_row.append(X[i][j] ** k)\n",
    "    Xmat_row.append(1)\n",
    "    Xmat.append(Xmat_row)\n",
    "  Xmat = np.array(Xmat)\n",
    "  Tmat = np.array(t)\n",
    "  Ws = (np.linalg.inv(Xmat.transpose() @ Xmat) @ Xmat.transpose()) @ Tmat\n",
    "  return Ws\n"
   ]
  },
  {
   "cell_type": "markdown",
   "metadata": {
    "id": "DNeTMs9pM_G7"
   },
   "source": [
    "**2. Using 5-crossfold validation, find the best order for your LS regression\n",
    "model (linear, quadratic, etc...) for only the Exhaust Vacuum (V) as the\n",
    "input feature. Plot both training and validation ERMS (Y axis) versus\n",
    "order of the regression polynomial model (X axis), showing the best\n",
    "chosen polynomial order. [1%]**"
   ]
  },
  {
   "cell_type": "markdown",
   "metadata": {
    "id": "2fERe40NCyJy"
   },
   "source": [
    "**1D ERMS Calculator**"
   ]
  },
  {
   "cell_type": "code",
   "execution_count": 9,
   "metadata": {
    "id": "xXdyzSrZDAJl"
   },
   "outputs": [],
   "source": [
    "def ERMS_Calculator_1D(W, X, Y):\n",
    "  err_array = []\n",
    "  predicted_P = []\n",
    "  N = len(X)\n",
    "  for i in range(N):\n",
    "    pred = 0\n",
    "    for count,hi in enumerate(W):\n",
    "      pred = pred + hi*X[i]**count\n",
    "    predicted_P.append(pred)\n",
    "  err_array = (predicted_P - Y)**2\n",
    "  return  math.sqrt(np.sum(err_array)/N)"
   ]
  },
  {
   "cell_type": "code",
   "execution_count": 10,
   "metadata": {
    "id": "L6sM2gs747T7"
   },
   "outputs": [],
   "source": [
    "def ERMS_Calculator_mD(W, X, Y):\n",
    "  err_array = []\n",
    "  predicted_P = []\n",
    "  if (X.ndim == 1):\n",
    "    X = X.reshape(-1, 1)\n",
    "  N = len(X)\n",
    "  numfeatures = len(X[0])\n",
    "  for i in range(N):\n",
    "    pred = 0\n",
    "    for count,hi in enumerate(W[:-1]):\n",
    "      pred = pred + hi*X[i][count]\n",
    "    pred = pred + W[numfeatures]\n",
    "    predicted_P.append(pred)\n",
    "  err_array = (predicted_P - Y)**2\n",
    "  return  math.sqrt(np.sum(err_array)/N)"
   ]
  },
  {
   "cell_type": "code",
   "execution_count": 11,
   "metadata": {
    "id": "ENl5Y3iLd6gd"
   },
   "outputs": [],
   "source": [
    "N = 30\n",
    "E_avg_array_train = []\n",
    "E_avg_array_test = []\n",
    "powerr = [0, 1, 2, 3, 4, 5, 6, 7]\n",
    "for pow in powerr:\n",
    "  E_train = []\n",
    "  E_test = []\n",
    "  Ypred = 0\n",
    "  for i in range (0, 5):\n",
    "    train, test = fold_gen(i)\n",
    "    V_train = train[:N,1]\n",
    "    P_train = train[:N,4]\n",
    "    V_test = test[:N,1]\n",
    "    P_test = test[:N,4]\n",
    "    \n",
    "    w = Ws_Gen(pow, V_train, P_train)\n",
    "    E_train.append(ERMS_Calculator_1D(np.flip(w), V_train, P_train))\n",
    "    E_test.append(ERMS_Calculator_1D(np.flip(w), V_test, P_test))\n",
    "  E_avg_train = sum(E_train)/5\n",
    "  E_avg_array_train.append(E_avg_train)\n",
    "  E_avg_test = sum(E_test)/5\n",
    "  E_avg_array_test.append(E_avg_test)\n"
   ]
  },
  {
   "cell_type": "code",
   "execution_count": 12,
   "metadata": {
    "colab": {
     "base_uri": "https://localhost:8080/",
     "height": 296
    },
    "id": "kVv_y1wxhyTI",
    "outputId": "47641afe-5527-4228-bba4-6c6460478f46"
   },
   "outputs": [
    {
     "data": {
      "text/plain": [
       "Text(0, 0.5, 'Erms')"
      ]
     },
     "execution_count": 12,
     "metadata": {},
     "output_type": "execute_result"
    },
    {
     "data": {
      "image/png": "[encoded data removed]",
      "text/plain": [
       "<Figure size 432x288 with 1 Axes>"
      ]
     },
     "metadata": {
      "needs_background": "light"
     },
     "output_type": "display_data"
    }
   ],
   "source": [
    "E_avg_array_train = np.array(E_avg_array_train)\n",
    "E_avg_array_test = np.array(E_avg_array_test)\n",
    "powerr = np.array(powerr)\n",
    "plt.plot(powerr, E_avg_array_train, 'o')\n",
    "plt.plot(powerr,E_avg_array_train,color='b',zorder=1)\n",
    "plt.plot(powerr, E_avg_array_test, '^')\n",
    "plt.plot(powerr,E_avg_array_test,color='r',zorder=1)\n",
    "plt.grid()\n",
    "plt.xlabel('p')\n",
    "plt.ylabel('Erms')"
   ]
  },
  {
   "cell_type": "markdown",
   "metadata": {
    "id": "Csc1fcF-w20d"
   },
   "source": [
    "The best choosen polynomial oder is **4** or **5** sense the validation set Erms did not increase significantly"
   ]
  },
  {
   "cell_type": "markdown",
   "metadata": {
    "id": "OXH5Kby4M1qQ"
   },
   "source": [
    "**3. Using 5-crossfold validation, find the best subset of the available 4\n",
    "features: Temperature (AT), Pressure (AP), Relative Humidity (RH) and\n",
    "Exhaust Vacuum (V) for only the Linear LS model. Plot both training\n",
    "and validation ERMS (Y axis) versus different combinations of the 4\n",
    "features, showing the best combination. [1%]**"
   ]
  },
  {
   "cell_type": "code",
   "execution_count": 13,
   "metadata": {
    "id": "Gh0FxTSW1bGE"
   },
   "outputs": [],
   "source": [
    "def sub_lists (l): \n",
    "    base = []   \n",
    "    lists = [base] \n",
    "    for i in range(len(l)): \n",
    "        orig = lists[:] \n",
    "        new = l[i] \n",
    "        for j in range(len(lists)): \n",
    "            lists[j] = lists[j] + [new] \n",
    "        lists = orig + lists \n",
    "          \n",
    "    return lists "
   ]
  },
  {
   "cell_type": "code",
   "execution_count": 14,
   "metadata": {
    "colab": {
     "base_uri": "https://localhost:8080/",
     "height": 34
    },
    "id": "jb2yUrUn1eC6",
    "outputId": "c946eaa5-257c-47ea-fe63-8e6fe93e9169"
   },
   "outputs": [
    {
     "data": {
      "text/plain": [
       "[]"
      ]
     },
     "execution_count": 14,
     "metadata": {},
     "output_type": "execute_result"
    }
   ],
   "source": [
    "l1 = [0, 1, 2, 3] \n",
    "l1 = sub_lists(l1)\n",
    "l1.pop(0)"
   ]
  },
  {
   "cell_type": "code",
   "execution_count": 15,
   "metadata": {
    "id": "n6QQ8-N6v_mf"
   },
   "outputs": [],
   "source": [
    "E_avg_array_train = []\n",
    "E_avg_array_test = []\n",
    "for j in l1:\n",
    "  N = 13\n",
    "  E_train = []\n",
    "  E_test = []\n",
    "  Ypred = 0\n",
    "  for i in range (0, 5):\n",
    "    train, test = fold_gen(i)\n",
    "    V_train = train[:N,j]\n",
    "    P_train = train[:N,4]\n",
    "    V_test = test[:N,j]\n",
    "    P_test = test[:N,4]\n",
    "    w = Ws_Gen(1, V_train, P_train)\n",
    "    E_train.append(ERMS_Calculator_mD(w, V_train, P_train))\n",
    "    E_test.append(ERMS_Calculator_mD(w, V_test, P_test))\n",
    "  E_avg_train = sum(E_train)/5\n",
    "  E_avg_array_train.append(E_avg_train)\n",
    "  E_avg_test = sum(E_test)/5\n",
    "  E_avg_array_test.append(E_avg_test)"
   ]
  },
  {
   "cell_type": "code",
   "execution_count": 16,
   "metadata": {
    "id": "0n_IgWiU96qu"
   },
   "outputs": [],
   "source": [
    "string_comb = ['[0]', '[1]', '[0, 1]', '[2]', '[0, 2]', '[1, 2]', '[0, 1, 2]', '[3]', '[0, 3]', '[1, 3]', '[0, 1, 3]', '[2, 3]', '[0, 2, 3]', '[1, 2, 3]', '[0, 1, 2, 3]']\n",
    "string_comb = np.array(string_comb)"
   ]
  },
  {
   "cell_type": "code",
   "execution_count": 17,
   "metadata": {
    "colab": {
     "base_uri": "https://localhost:8080/",
     "height": 428
    },
    "id": "oYuF3zXV9XnT",
    "outputId": "6781e50a-7ca0-4fde-9fa4-0b6db182765d"
   },
   "outputs": [
    {
     "data": {
      "image/png": "[encoded data removed]",
      "text/plain": [
       "<Figure size 1080x504 with 1 Axes>"
      ]
     },
     "metadata": {
      "needs_background": "light"
     },
     "output_type": "display_data"
    }
   ],
   "source": [
    "E_avg_array_train = np.array(E_avg_array_train)\n",
    "E_avg_array_test = np.array(E_avg_array_test)\n",
    "# Figure Size \n",
    "fig = plt.figure(figsize =(15, 7)) \n",
    "# Horizontal Bar Plot \n",
    "plt.bar(string_comb, E_avg_array_train) \n",
    "plt.bar(string_comb, E_avg_array_test, width = 0.5) \n",
    "# Show Plot \n",
    "plt.show()"
   ]
  },
  {
   "cell_type": "markdown",
   "metadata": {
    "id": "qj032pYNByWK"
   },
   "source": [
    "The graph plotted shows that any 1 feature is used as a predicter solely, it does not give good results. Generally, when the number of features is increased the error is reduced. The least is yeilded when the 4 features are used. Also, The test set generally follows the same pattern as that created by the training set. "
   ]
  },
  {
   "cell_type": "markdown",
   "metadata": {
    "id": "yHSSD9aSMnUc"
   },
   "source": [
    "**4. Repeat 2 above for all features combined as input rather than only the\n",
    "Exhaust Vacum (V) [1%]**"
   ]
  },
  {
   "cell_type": "code",
   "execution_count": 18,
   "metadata": {
    "id": "RuPrM1_2Sg-G"
   },
   "outputs": [],
   "source": [
    "from itertools import combinations_with_replacement  \n",
    "# Get all combinations of [1, 2, 3] and length 2\n",
    "def combinations_generator(p, A):\n",
    "  all_combinations = []\n",
    "  for j in range(1,p+1):\n",
    "    comb = combinations_with_replacement(A, j) \n",
    "    # Print the obtained combinations \n",
    "    for i in list(comb): \n",
    "        i = np.array(i)\n",
    "        all_combinations.append(i)\n",
    "  return all_combinations"
   ]
  },
  {
   "cell_type": "code",
   "execution_count": 19,
   "metadata": {
    "id": "1pFtQpUGSkVX"
   },
   "outputs": [],
   "source": [
    "def Ws_Gen_4D_High_Order(P, X, t):\n",
    "  comb = combinations_generator(P, [0, 1, 2, 3])\n",
    "  Xmat = []\n",
    "  Tmat = []\n",
    "  N = len(X)\n",
    "  numfeatures = 4\n",
    "  for i in range(0,N):\n",
    "    Xmat_row = []\n",
    "    for j in comb:\n",
    "      w = 1\n",
    "      for k in j:\n",
    "        w = w * X[i][k]\n",
    "      Xmat_row.append(w)\n",
    "    Xmat_row.append(1)\n",
    "    Xmat.append(Xmat_row)\n",
    "  Xmat = np.array(Xmat)\n",
    "  Tmat = np.array(t)\n",
    "  Ws = (np.linalg.inv(Xmat.transpose() @ Xmat) @ Xmat.transpose()) @ Tmat\n",
    "  return Ws\n"
   ]
  },
  {
   "cell_type": "code",
   "execution_count": 20,
   "metadata": {
    "id": "4zM39_VYEwg3"
   },
   "outputs": [],
   "source": [
    "def ERMS_Calculator_4D_high_order(P, W, X, Y):\n",
    "  comb = combinations_generator(P, [0, 1, 2, 3])\n",
    "  Xmat = []\n",
    "  Tmat = []\n",
    "  err_array = []\n",
    "  predicted_P = []\n",
    "  N = len(X)\n",
    "  numfeatures = 4\n",
    "  for i in range(N):\n",
    "    pred = 0\n",
    "    for count,hi in enumerate(W[:-1]):\n",
    "      num_x = 1\n",
    "      for j in comb[count]:\n",
    "        num_x = num_x * X[i][j]\n",
    "      pred = pred + hi*num_x\n",
    "    pred = pred + W[len(W)-1]\n",
    "    predicted_P.append(pred)\n",
    "  err_array = (predicted_P - Y)**2\n",
    "  return  math.sqrt(np.sum(err_array)/N)"
   ]
  },
  {
   "cell_type": "code",
   "execution_count": 21,
   "metadata": {
    "id": "tZOkl6KIUIHj"
   },
   "outputs": [],
   "source": [
    "N = 30\n",
    "E_avg_array_train = []\n",
    "E_avg_array_test = []\n",
    "powerr = [0, 1, 2]\n",
    "for pow in powerr:\n",
    "  E_train = []\n",
    "  E_test = []\n",
    "  Ypred = 0\n",
    "  for i in range (0, 5):\n",
    "    train, test = fold_gen(i)\n",
    "    V_train = train[:N,[0,1,2,3]]\n",
    "    P_train = train[:N,4]\n",
    "    V_test = test[:N,[0,1,2,3]]\n",
    "    P_test = test[:N,4]\n",
    "    \n",
    "    w = Ws_Gen_4D_High_Order(pow, V_train, P_train)\n",
    "    E_train.append(ERMS_Calculator_4D_high_order(pow,w, V_train, P_train))\n",
    "    E_test.append(ERMS_Calculator_4D_high_order(pow,w, V_test, P_test))\n",
    "  E_avg_train = sum(E_train)/5\n",
    "  E_avg_array_train.append(E_avg_train)\n",
    "  E_avg_test = sum(E_test)/5\n",
    "  E_avg_array_test.append(E_avg_test)\n"
   ]
  },
  {
   "cell_type": "code",
   "execution_count": 23,
   "metadata": {
    "colab": {
     "base_uri": "https://localhost:8080/",
     "height": 296
    },
    "id": "w0ldQ7HMLB1H",
    "outputId": "a5ed596f-4e1c-4ea3-d349-46826e4ab2c4"
   },
   "outputs": [
    {
     "data": {
      "text/plain": [
       "Text(0, 0.5, 'Erms')"
      ]
     },
     "execution_count": 23,
     "metadata": {},
     "output_type": "execute_result"
    },
    {
     "data": {
      "image/png": "[encoded data removed]",
      "text/plain": [
       "<Figure size 432x288 with 1 Axes>"
      ]
     },
     "metadata": {
      "needs_background": "light"
     },
     "output_type": "display_data"
    }
   ],
   "source": [
    "E_avg_array_train = np.array(E_avg_array_train)\n",
    "E_avg_array_test = np.array(E_avg_array_test)\n",
    "powerr = np.array(powerr)\n",
    "plt.plot(powerr, E_avg_array_train, 'o')\n",
    "plt.plot(powerr,E_avg_array_train,color='b',zorder=1)\n",
    "plt.plot(powerr, E_avg_array_test, '^')\n",
    "plt.plot(powerr,E_avg_array_test,color='r',zorder=1)\n",
    "plt.grid()\n",
    "plt.xlabel('p')\n",
    "plt.ylabel('Erms')"
   ]
  },
  {
   "cell_type": "code",
   "execution_count": null,
   "metadata": {},
   "outputs": [],
   "source": []
  },
  {
   "cell_type": "code",
   "execution_count": null,
   "metadata": {},
   "outputs": [],
   "source": []
  }
 ],
 "metadata": {
  "colab": {
   "collapsed_sections": [],
   "name": "PART2.ipynb",
   "provenance": []
  },
  "kernelspec": {
   "display_name": "Python 3",
   "language": "python",
   "name": "python3"
  },
  "language_info": {
   "codemirror_mode": {
    "name": "ipython",
    "version": 3
   },
   "file_extension": ".py",
   "mimetype": "text/x-python",
   "name": "python",
   "nbconvert_exporter": "python",
   "pygments_lexer": "ipython3",
   "version": "3.7.6"
  }
 },
 "nbformat": 4,
 "nbformat_minor": 1
}
